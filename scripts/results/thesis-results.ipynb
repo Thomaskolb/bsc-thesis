{
 "cells": [
  {
   "cell_type": "code",
   "execution_count": 7,
   "id": "0ac98181",
   "metadata": {},
   "outputs": [],
   "source": [
    "import numpy as np"
   ]
  },
  {
   "cell_type": "code",
   "execution_count": 2,
   "id": "c5c2c85c",
   "metadata": {},
   "outputs": [],
   "source": [
    "import matplotlib.pyplot as plt"
   ]
  },
  {
   "cell_type": "code",
   "execution_count": 4,
   "id": "4498d4f8",
   "metadata": {},
   "outputs": [],
   "source": [
    "# Notes:\n",
    "# globaal idee van wat voor soort experimenten we doen\n",
    "# ?Beschrijven van algemeenheden van experimenten\n",
    "# Fine-tuning base10 - different configs & hours - WER\n",
    "# -Different values for lm-weight blabla\n",
    "# Fine-tuning xlsr - difference with base10 - WER\n",
    "# Shifting subtitles - difference without shifting - xlsr + base10 - WER\n",
    "# Other stuff\n",
    "# -Use of interpunction\n",
    "# -Eh cases\n",
    "# -Summarizing information\n",
    "# -Equal LM model for asr + my model"
   ]
  },
  {
   "cell_type": "code",
   "execution_count": null,
   "id": "b0de71f1",
   "metadata": {},
   "outputs": [],
   "source": [
    "# Fine-tuning base10 - different configs & hours - WER\n",
    "data = {'config1'}"
   ]
  }
 ],
 "metadata": {
  "kernelspec": {
   "display_name": "Python 3 (ipykernel)",
   "language": "python",
   "name": "python3"
  },
  "language_info": {
   "codemirror_mode": {
    "name": "ipython",
    "version": 3
   },
   "file_extension": ".py",
   "mimetype": "text/x-python",
   "name": "python",
   "nbconvert_exporter": "python",
   "pygments_lexer": "ipython3",
   "version": "3.10.0"
  },
  "varInspector": {
   "cols": {
    "lenName": 16,
    "lenType": 16,
    "lenVar": 40
   },
   "kernels_config": {
    "python": {
     "delete_cmd_postfix": "",
     "delete_cmd_prefix": "del ",
     "library": "var_list.py",
     "varRefreshCmd": "print(var_dic_list())"
    },
    "r": {
     "delete_cmd_postfix": ") ",
     "delete_cmd_prefix": "rm(",
     "library": "var_list.r",
     "varRefreshCmd": "cat(var_dic_list()) "
    }
   },
   "types_to_exclude": [
    "module",
    "function",
    "builtin_function_or_method",
    "instance",
    "_Feature"
   ],
   "window_display": false
  }
 },
 "nbformat": 4,
 "nbformat_minor": 5
}
